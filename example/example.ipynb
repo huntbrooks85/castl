{
 "cells": [
  {
   "cell_type": "markdown",
   "metadata": {},
   "source": [
    "# 🏰 castl Example 🏰"
   ]
  },
  {
   "cell_type": "markdown",
   "metadata": {},
   "source": [
    "### ⬇️ Import Relavent Packages ⬇️"
   ]
  },
  {
   "cell_type": "code",
   "execution_count": null,
   "metadata": {},
   "outputs": [],
   "source": [
    "# Import castl\n",
    "from castl.mcfit import *\n",
    "from castl.h5grid import *\n",
    "import astropy.units as u"
   ]
  },
  {
   "cell_type": "markdown",
   "metadata": {},
   "source": [
    "### 🏗️ Creates h5 Model Spectra Grid 🏗️"
   ]
  },
  {
   "cell_type": "code",
   "execution_count": null,
   "metadata": {},
   "outputs": [],
   "source": [
    "# REQUIRED VARIABLES #\n",
    "# ------------------ #\n",
    "output_h5 = 'model/model_example' # Output Name (DO NOT INCLUDE FILE TYPE)\n",
    "model_directory = '/User/Desktop/elfowl' # Model Directory Path\n",
    "\n",
    "model_parm = ['log(Kzz)', 'Teff', 'gravity', '[M/H]', 'C/O'] # Model Parameter Names (FOLLOWING THE ORDER OF THE MODEL FILE NAME)\n",
    "\n",
    "wavelength_region = [0, 10] # Wavelength Region (default=[0, np.inf])\n",
    "# ------------------ #\n",
    "\n",
    "# BUILDS H5 FILE ON MODEL # \n",
    "# ----------------------- #\n",
    "h5grid(model_directory, model_parm, output_h5, wavelength_region=wavelength_region)\n",
    "# ----------------------- #"
   ]
  },
  {
   "cell_type": "markdown",
   "metadata": {},
   "source": [
    "### 📈 Runs Spectral MCMC Model 📉"
   ]
  },
  {
   "cell_type": "code",
   "execution_count": null,
   "metadata": {},
   "outputs": [],
   "source": [
    "# REQUIRED VARIABLES #\n",
    "# ------------------ #\n",
    "input_file = 'observed_example.csv' # Input Spectrum Directory\n",
    "output_mcmc = 'output/example_output' # Output Name (DO NOT INCLUDE FILE TYPE)\n",
    "\n",
    "h5_directory = 'model/model_example.h5' # Model h5 file from \"h5grid\"\n",
    "\n",
    "model_parm = ['Teff', 'log(g)', '[M/H]', 'log(Kzz)', 'C/O'] # Model Parameters (NEED THE EXACT NAME FROM THE H5 FILE)\n",
    "# ------------------ #\n",
    "\n",
    "\n",
    "\n",
    "# OPTIONAL VARIABLES #\n",
    "# ------------------ #\n",
    "grid_scale = 10 # Number of grid points used in each dimension (default=10)\n",
    "walkers = 15 # Number of emcee Walkers (default=15)\n",
    "steps = 1000 # Number of emcee Steps (default=1000)\n",
    "monitor = False # To Plot Periodic Step Plots Every 1000 Steps (default=False)\n",
    "unit_wave = [u.um, u.um] # Astropy units for wavelength [OBSERVED, MODEL] (default=[u.um, u.um])\n",
    "unit_flux = [(u.erg / (u.cm**2 * u.s * u.um)), (u.erg / (u.cm**2 * u.s * u.cm))] # Astropy units for flux [OBSERVED, MODEL] (default=[(u.erg / (u.cm**2 * u.s * u.um)), (u.erg / (u.cm**2 * u.s * u.um))])\n",
    "save_output = True # Whether you save the figures and tables (default=True)\n",
    "# ------------------ #\n",
    "\n",
    "\n",
    "\n",
    "# RUNS CASTL CALCULATIONS #\n",
    "# ---------------------- #\n",
    "mcfit(input_file, output_mcmc, h5_directory, model_parm, \n",
    "        grid_scale=grid_scale, unit_wave=unit_wave, unit_flux=unit_flux, walkers=walkers, steps = steps, monitor = monitor, save_output=save_output)\n",
    "# ---------------------- #"
   ]
  },
  {
   "cell_type": "markdown",
   "metadata": {},
   "source": [
    "### 🏁 Finé 🏁"
   ]
  }
 ],
 "metadata": {
  "kernelspec": {
   "display_name": "Python 3",
   "language": "python",
   "name": "python3"
  },
  "language_info": {
   "codemirror_mode": {
    "name": "ipython",
    "version": 3
   },
   "file_extension": ".py",
   "mimetype": "text/x-python",
   "name": "python",
   "nbconvert_exporter": "python",
   "pygments_lexer": "ipython3",
   "version": "3.8.8"
  }
 },
 "nbformat": 4,
 "nbformat_minor": 4
}
