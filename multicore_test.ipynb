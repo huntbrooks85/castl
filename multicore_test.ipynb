{
 "cells": [
  {
   "cell_type": "code",
   "execution_count": null,
   "metadata": {},
   "outputs": [],
   "source": [
    "# Import the castl and multicore package \n",
    "from castl.mcfit import *\n",
    "from pathlib import Path\n",
    "import multiprocessing\n",
    "from tqdm import tqdm\n",
    "import glob\n",
    "import os"
   ]
  },
  {
   "cell_type": "code",
   "execution_count": null,
   "metadata": {},
   "outputs": [],
   "source": [
    "# Model parameters\n",
    "model_directory = '/scratch/hcb98/bones_project/default/MODELS/LOWZ'\n",
    "model_parm = ['Teff', 'log(g)', 'MH', 'CO', 'log(Kzz)']\n",
    "model_bounds = [(500, 1600), (3.5, 5), (-2.5, 0.5), (0.1, 0.85), (-1, 10)]\n",
    "unit = 1"
   ]
  },
  {
   "cell_type": "code",
   "execution_count": null,
   "metadata": {},
   "outputs": [],
   "source": [
    "# MCMC settings\n",
    "steps = 25000\n",
    "walkers = 40\n",
    "stretch = 2\n",
    "discard = 2500\n",
    "inter_type = 'total'"
   ]
  },
  {
   "cell_type": "code",
   "execution_count": null,
   "metadata": {},
   "outputs": [],
   "source": [
    "# Defines locking for the multicore\n",
    "lock = None\n",
    "\n",
    "def init_lock(l):\n",
    "    global lock\n",
    "    lock = l\n",
    "\n",
    "# Defines the running function for multiple objects\n",
    "def process_file(temp_file):\n",
    "    split_file = (temp_file.split('/Observed_Spectra/', 2)[1]).split('.csv', 2)[0] # Gets the object name\n",
    "    output_file = f'Output/MODEL_{split_file}' # Makes the output file name\n",
    "\n",
    "    file_path = Path(f'{output_file}.pdf')\n",
    "\n",
    "    # Make sure the object path doesnt already exist\n",
    "    if file_path.exists():\n",
    "        pass\n",
    "    else: \n",
    "        with lock:\n",
    "            print(f'Started Running Calculations for XXX MODEL: {split_file}')\n",
    "        mcmcfit(temp_file, output_file, model_directory, model_parm, model_bounds, inter_type, unit, steps, walkers, stretch, discard) # Runs the calculations\n",
    "        \n",
    "        with lock:\n",
    "            print(f'Ended Calculations for XXX MODEL: {split_file}')\n",
    "        return output_file\n",
    "\n",
    "if __name__ == \"__main__\":\n",
    "    input_file_list = glob.glob('/Observed_Spectra/*')\n",
    "    lock = multiprocessing.Lock()\n",
    "\n",
    "    # This is how many objects are ran at once (ie 100 total objects with chunk 3 is ~33 objects)\n",
    "    chunksize = 3\n",
    "\n",
    "    # Starts each calculation\n",
    "    with multiprocessing.Pool(initializer=init_lock, initargs=(lock,)) as pool:\n",
    "        results = []\n",
    "        for chunk in tqdm(pool.imap(process_file, input_file_list, chunksize=chunksize), total=len(input_file_list)):\n",
    "            results.append(chunk)\n",
    "\n",
    "    for output_file in results:\n",
    "        print(f'Completed: {output_file}')"
   ]
  }
 ],
 "metadata": {
  "kernelspec": {
   "display_name": "Python 3 (ipykernel)",
   "language": "python",
   "name": "python3"
  },
  "language_info": {
   "codemirror_mode": {
    "name": "ipython",
    "version": 3
   },
   "file_extension": ".py",
   "mimetype": "text/x-python",
   "name": "python",
   "nbconvert_exporter": "python",
   "pygments_lexer": "ipython3",
   "version": "3.11.7"
  }
 },
 "nbformat": 4,
 "nbformat_minor": 4
}
