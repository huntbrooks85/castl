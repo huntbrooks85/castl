{
 "cells": [
  {
   "cell_type": "markdown",
   "metadata": {
    "editable": true,
    "slideshow": {
     "slide_type": ""
    },
    "tags": []
   },
   "source": [
    "#### START"
   ]
  },
  {
   "cell_type": "code",
   "execution_count": 1,
   "metadata": {},
   "outputs": [],
   "source": [
    "from castl.mcmcfit import *\n",
    "from pathlib import Path\n",
    "import multiprocessing\n",
    "from tqdm import tqdm\n",
    "import glob\n",
    "import os"
   ]
  },
  {
   "cell_type": "code",
   "execution_count": 2,
   "metadata": {},
   "outputs": [
    {
     "name": "stderr",
     "output_type": "stream",
     "text": [
      "  0%|          | 0/72 [00:00<?, ?it/s]"
     ]
    },
    {
     "name": "stdout",
     "output_type": "stream",
     "text": [
      "Started Running Calculations for LOWZ: J0532+8246\n",
      "Started Running Calculations for LOWZ: J0645-6646\n",
      "Started Running Calculations for LOWZ: J0948-2903\n",
      "Started Running Calculations for LOWZ: J0616-6407\n",
      "Started Running Calculations for LOWZ: J1556+1300\n"
     ]
    },
    {
     "name": "stderr",
     "output_type": "stream",
     "text": [
      "100%|██████████| 25000/25000 [5:03:21<00:00,  1.37it/s]s]\n",
      " 83%|████████▎ | 20685/25000 [5:03:43<1:03:34,  1.13it/s]"
     ]
    },
    {
     "name": "stdout",
     "output_type": "stream",
     "text": [
      "Ended Calculations for LOWZ: J0532+8246\n"
     ]
    },
    {
     "name": "stderr",
     "output_type": "stream",
     "text": [
      "100%|██████████| 25000/25000 [5:52:34<00:00,  1.18it/s]t]\n",
      " 96%|█████████▌| 24038/25000 [5:52:51<15:11,  1.06it/s]t]"
     ]
    },
    {
     "name": "stdout",
     "output_type": "stream",
     "text": [
      "Ended Calculations for LOWZ: J0948-2903\n"
     ]
    },
    {
     "name": "stderr",
     "output_type": "stream",
     "text": [
      "100%|██████████| 25000/25000 [6:06:43<00:00,  1.14it/s]t]\n",
      " 91%|█████████▏| 22843/25000 [6:06:27<33:01,  1.09it/s]t]"
     ]
    },
    {
     "name": "stdout",
     "output_type": "stream",
     "text": [
      "Ended Calculations for LOWZ: J1556+1300\n"
     ]
    },
    {
     "name": "stderr",
     "output_type": "stream",
     "text": [
      "100%|██████████| 25000/25000 [6:39:28<00:00,  1.04it/s]t]\n",
      " 79%|███████▊  | 19661/25000 [6:39:46<1:45:16,  1.18s/it]"
     ]
    },
    {
     "name": "stdout",
     "output_type": "stream",
     "text": [
      "Ended Calculations for LOWZ: J0645-6646\n"
     ]
    },
    {
     "name": "stderr",
     "output_type": "stream",
     "text": [
      "100%|██████████| 25000/25000 [8:25:18<00:00,  1.21s/it]  \n"
     ]
    },
    {
     "name": "stdout",
     "output_type": "stream",
     "text": [
      "Ended Calculations for LOWZ: J0616-6407\n"
     ]
    },
    {
     "name": "stderr",
     "output_type": "stream",
     "text": [
      "100%|██████████| 72/72 [8:27:21<00:00, 422.79s/it]  "
     ]
    },
    {
     "name": "stdout",
     "output_type": "stream",
     "text": [
      "Completed: None\n",
      "Completed: None\n",
      "Completed: None\n",
      "Completed: None\n",
      "Completed: None\n",
      "Completed: None\n",
      "Completed: None\n",
      "Completed: None\n",
      "Completed: None\n",
      "Completed: None\n",
      "Completed: None\n",
      "Completed: None\n",
      "Completed: None\n",
      "Completed: None\n",
      "Completed: None\n",
      "Completed: None\n",
      "Completed: None\n",
      "Completed: None\n",
      "Completed: None\n",
      "Completed: None\n",
      "Completed: None\n",
      "Completed: None\n",
      "Completed: None\n",
      "Completed: None\n",
      "Completed: None\n",
      "Completed: None\n",
      "Completed: None\n",
      "Completed: None\n",
      "Completed: None\n",
      "Completed: None\n",
      "Completed: None\n",
      "Completed: None\n",
      "Completed: None\n",
      "Completed: None\n",
      "Completed: None\n",
      "Completed: None\n",
      "Completed: None\n",
      "Completed: None\n",
      "Completed: None\n",
      "Completed: None\n",
      "Completed: None\n",
      "Completed: None\n",
      "Completed: Output/LOWZ/LOWZ_J0532+8246\n",
      "Completed: None\n",
      "Completed: Output/LOWZ/LOWZ_J0616-6407\n",
      "Completed: Output/LOWZ/LOWZ_J0645-6646\n",
      "Completed: None\n",
      "Completed: None\n",
      "Completed: None\n",
      "Completed: Output/LOWZ/LOWZ_J0948-2903\n",
      "Completed: None\n",
      "Completed: None\n",
      "Completed: None\n",
      "Completed: None\n",
      "Completed: None\n",
      "Completed: None\n",
      "Completed: None\n",
      "Completed: Output/LOWZ/LOWZ_J1556+1300\n",
      "Completed: None\n",
      "Completed: None\n",
      "Completed: None\n",
      "Completed: None\n",
      "Completed: None\n",
      "Completed: None\n",
      "Completed: None\n",
      "Completed: None\n",
      "Completed: None\n",
      "Completed: None\n",
      "Completed: None\n",
      "Completed: None\n",
      "Completed: None\n",
      "Completed: None\n"
     ]
    },
    {
     "name": "stderr",
     "output_type": "stream",
     "text": [
      "\n"
     ]
    }
   ],
   "source": [
    "# Model parameters and settings\n",
    "model_directory = '/scratch/hcb98/bones_project/default/MODELS/LOWZ'\n",
    "model_parm = ['Teff', 'log(g)', 'MH', 'CO', 'log(Kzz)']\n",
    "model_bounds = [(500, 1600), (3.5, 5), (-2.5, 0.5), (0.1, 0.85), (-1, 10)]\n",
    "unit = 1\n",
    "steps = 25000\n",
    "walkers = 40\n",
    "stretch = 2\n",
    "discard = 2500\n",
    "zoom_factor = 0.75\n",
    "\n",
    "# Global lock for process synchronization\n",
    "lock = None\n",
    "\n",
    "def init_lock(l):\n",
    "    global lock\n",
    "    lock = l\n",
    "\n",
    "def process_file(temp_file):\n",
    "    split_file = (temp_file.split('/home/hcb98/BONES/OBSERVED/', 2)[1]).split('.csv', 2)[0]\n",
    "    output_file = f'Output/LOWZ/LOWZ_{split_file}'\n",
    "\n",
    "    file_path = Path(f'{output_file}.pdf')\n",
    "\n",
    "    if file_path.exists():\n",
    "        pass\n",
    "    else: \n",
    "        with lock:\n",
    "            print(f'Started Running Calculations for LOWZ: {split_file}')\n",
    "        mcmcfit(temp_file, output_file, model_directory, model_parm, model_bounds, zoom_factor, unit, steps, walkers, stretch, discard)\n",
    "        \n",
    "        with lock:\n",
    "            print(f'Ended Calculations for LOWZ: {split_file}')\n",
    "        return output_file\n",
    "\n",
    "if __name__ == \"__main__\":\n",
    "    input_file_list = glob.glob('/home/hcb98/BONES/OBSERVED/*')\n",
    "    lock = multiprocessing.Lock()\n",
    "\n",
    "    with multiprocessing.Pool(initializer=init_lock, initargs=(lock,)) as pool:\n",
    "        results = list(tqdm(pool.imap(process_file, input_file_list), total=len(input_file_list)))\n",
    "\n",
    "    for output_file in results:\n",
    "        print(f'Completed: {output_file}')\n",
    "\n"
   ]
  },
  {
   "cell_type": "code",
   "execution_count": 24,
   "metadata": {},
   "outputs": [
    {
     "name": "stdout",
     "output_type": "stream",
     "text": [
      "0.07159072128748364\n"
     ]
    }
   ],
   "source": [
    "import pandas as pd\n",
    "import numpy as np\n",
    "\n",
    "object_name = 'Wolf1130B'\n",
    "\n",
    "observed_spec = pd.read_csv(f'/home/hcb98/BONES/OBSERVED/{object_name}.csv')\n",
    "observed_flux = observed_spec.iloc[:, 1].tolist()\n",
    "observed_flux = [x / np.nanpercentile(observed_flux, 99) for x in observed_flux]\n",
    "indices_to_keep = [i for i, flux in enumerate(observed_flux) if not np.isnan(flux) and flux > 0]\n",
    "observed_flux = np.array([observed_flux[i] for i in indices_to_keep])\n",
    "\n",
    "model_spec = pd.read_csv(f'Output/LOWZ/LOWZ_{object_name}_best_fit.csv')\n",
    "model_flux = np.array(model_spec['FLUX'].tolist())\n",
    "\n",
    "def chi2(observed_flux, model_flux):    \n",
    "    # Calculates chi square between observed flux and interpolated model flux\n",
    "    chi_square = np.nansum(((observed_flux - model_flux)**2 / model_flux))\n",
    "    chi_square = chi_square / (len(observed_flux) - 5)\n",
    "    return chi_square\n",
    "\n",
    "print(chi2(observed_flux, model_flux))"
   ]
  },
  {
   "cell_type": "markdown",
   "metadata": {},
   "source": [
    "### END"
   ]
  }
 ],
 "metadata": {
  "kernelspec": {
   "display_name": "Python 3 (ipykernel)",
   "language": "python",
   "name": "python3"
  },
  "language_info": {
   "codemirror_mode": {
    "name": "ipython",
    "version": 3
   },
   "file_extension": ".py",
   "mimetype": "text/x-python",
   "name": "python",
   "nbconvert_exporter": "python",
   "pygments_lexer": "ipython3",
   "version": "3.11.7"
  }
 },
 "nbformat": 4,
 "nbformat_minor": 4
}
