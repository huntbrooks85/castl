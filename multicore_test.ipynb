{
 "cells": [
  {
   "cell_type": "markdown",
   "metadata": {
    "editable": true,
    "slideshow": {
     "slide_type": ""
    },
    "tags": []
   },
   "source": [
    "#### START"
   ]
  },
  {
   "cell_type": "code",
   "execution_count": 1,
   "metadata": {},
   "outputs": [],
   "source": [
    "from castl.mcfit import *\n",
    "from pathlib import Path\n",
    "import concurrent.futures\n",
    "import multiprocessing\n",
    "from tqdm import tqdm\n",
    "import pandas as pd\n",
    "import glob\n",
    "import os"
   ]
  },
  {
   "cell_type": "code",
   "execution_count": 2,
   "metadata": {
    "scrolled": true
   },
   "outputs": [
    {
     "name": "stdout",
     "output_type": "stream",
     "text": [
      "Started Running Calculations for SAND: J1416+1348B\n",
      "Started Running Calculations for SAND: J0532+8246\n",
      "Started Running Calculations for SAND: J1316+0755\n",
      "Started Running Calculations for SAND: J1333+2735\n",
      "Started Running Calculations for SAND: J0306-0330\n",
      "Started Running Calculations for SAND: J0330-2348\n",
      "Started Running Calculations for SAND: J0333+0014\n",
      "Started Running Calculations for SAND: J0330+3505\n",
      "Started Running Calculations for SAND: J0559-2903\n",
      "Started Running Calculations for SAND: J1425+7102\n",
      "Started Running Calculations for SAND: J1035-0771\n",
      "Started Running Calculations for SAND: J1158+0435\n"
     ]
    },
    {
     "name": "stderr",
     "output_type": "stream",
     "text": [
      "100%|██████████| 3044/3044 [00:09<00:00, 327.18it/s]\n",
      "100%|██████████| 3044/3044 [00:09<00:00, 316.10it/s]\n",
      "100%|██████████| 3044/3044 [00:09<00:00, 314.90it/s]\n",
      "100%|██████████| 3044/3044 [00:10<00:00, 295.18it/s]\n",
      "100%|██████████| 3044/3044 [00:10<00:00, 289.52it/s]\n",
      "100%|██████████| 3044/3044 [00:10<00:00, 278.39it/s]]\n",
      "100%|██████████| 3044/3044 [00:11<00:00, 276.66it/s]]\n",
      "100%|██████████| 3044/3044 [00:11<00:00, 255.21it/s]]\n",
      "100%|██████████| 3044/3044 [00:11<00:00, 266.38it/s]\n",
      "  3%|▎         | 105/3044 [00:00<00:02, 1048.78it/s]]\n",
      "100%|██████████| 3044/3044 [00:08<00:00, 347.02it/s] \n",
      "100%|██████████| 3044/3044 [00:03<00:00, 975.35it/s] \n",
      "100%|██████████| 3044/3044 [00:03<00:00, 1012.03it/s]\n",
      "100%|██████████| 3044/3044 [00:10<00:00, 280.22it/s]\n",
      "100%|██████████| 3044/3044 [00:03<00:00, 877.41it/s]\n",
      "100%|██████████| 3044/3044 [00:03<00:00, 825.93it/s]\n",
      "100%|██████████| 3044/3044 [00:03<00:00, 830.50it/s]\n",
      "100%|██████████| 3044/3044 [00:04<00:00, 728.65it/s]\n",
      "100%|██████████| 3044/3044 [00:04<00:00, 613.76it/s]\n",
      "100%|██████████| 3044/3044 [00:04<00:00, 722.97it/s]\n",
      "  0%|          | 60/25000 [00:02<18:28, 22.49it/s]s]\n",
      "100%|██████████| 3044/3044 [00:05<00:00, 563.42it/s]\n",
      "100%|██████████| 3044/3044 [00:05<00:00, 516.25it/s]\n",
      "100%|██████████| 3044/3044 [00:06<00:00, 460.11it/s]\n",
      "  8%|▊         | 1900/25000 [00:48<09:47, 39.30it/s]]\n",
      "  4%|▍         | 1123/25000 [00:49<20:15, 19.64it/s]]"
     ]
    },
    {
     "name": "stdout",
     "output_type": "stream",
     "text": [
      "MCMC Model Has Finished Running\n",
      "Ended Calculations for SAND: J0306-0330\n"
     ]
    },
    {
     "name": "stderr",
     "output_type": "stream",
     "text": [
      "  6%|▌         | 1412/25000 [01:45<36:09, 10.87it/s]s]IOPub message rate exceeded.\n",
      "The Jupyter server will temporarily stop sending output\n",
      "to the client in order to avoid crashing it.\n",
      "To change this limit, set the config variable\n",
      "`--ServerApp.iopub_msg_rate_limit`.\n",
      "\n",
      "Current values:\n",
      "ServerApp.iopub_msg_rate_limit=1000.0 (msgs/sec)\n",
      "ServerApp.rate_limit_window=3.0 (secs)\n",
      "\n",
      "100%|██████████| 25000/25000 [03:20<00:00, 124.46it/s]\n",
      " 18%|█▊        | 4386/25000 [03:35<17:06, 20.07it/s]]]"
     ]
    },
    {
     "name": "stdout",
     "output_type": "stream",
     "text": [
      "MCMC Model Has Finished Running\n",
      "Ended Calculations for SAND: J1035-0771\n"
     ]
    },
    {
     "name": "stderr",
     "output_type": "stream",
     "text": [
      "100%|██████████| 25000/25000 [03:51<00:00, 107.83it/s]\n",
      " 25%|██▌       | 6302/25000 [04:11<13:48, 22.56it/s]]"
     ]
    },
    {
     "name": "stdout",
     "output_type": "stream",
     "text": [
      "MCMC Model Has Finished Running\n",
      "Ended Calculations for SAND: J1316+0755\n"
     ]
    },
    {
     "name": "stderr",
     "output_type": "stream",
     "text": [
      " 18%|█▊        | 4512/25000 [04:28<21:31, 15.86it/s]]IOPub message rate exceeded.\n",
      "The Jupyter server will temporarily stop sending output\n",
      "to the client in order to avoid crashing it.\n",
      "To change this limit, set the config variable\n",
      "`--ServerApp.iopub_msg_rate_limit`.\n",
      "\n",
      "Current values:\n",
      "ServerApp.iopub_msg_rate_limit=1000.0 (msgs/sec)\n",
      "ServerApp.rate_limit_window=3.0 (secs)\n",
      "\n",
      " 84%|████████▍ | 21000/25000 [05:47<01:06, 60.43it/s]\n",
      " 35%|███▌      | 8800/25000 [05:55<10:54, 24.74it/s]\n",
      " 37%|███▋      | 9300/25000 [06:04<10:15, 25.50it/s]\n",
      " 24%|██▍       | 5942/25000 [06:00<18:59, 16.72it/s]"
     ]
    },
    {
     "name": "stdout",
     "output_type": "stream",
     "text": [
      "MCMC Model Has Finished Running\n",
      "Ended Calculations for SAND: J1416+1348B\n"
     ]
    },
    {
     "name": "stderr",
     "output_type": "stream",
     "text": [
      " 29%|██▊       | 7147/25000 [06:00<15:17, 19.46it/s]"
     ]
    },
    {
     "name": "stdout",
     "output_type": "stream",
     "text": [
      "MCMC Model Has Finished Running\n"
     ]
    },
    {
     "name": "stderr",
     "output_type": "stream",
     "text": [
      " 18%|█▊        | 4417/25000 [06:03<27:08, 12.64it/s]"
     ]
    },
    {
     "name": "stdout",
     "output_type": "stream",
     "text": [
      "Ended Calculations for SAND: J1333+2735\n"
     ]
    },
    {
     "name": "stderr",
     "output_type": "stream",
     "text": [
      " 14%|█▍        | 3500/25000 [06:08<37:44,  9.49it/s]\n",
      " 34%|███▎      | 8409/25000 [06:12<13:10, 20.98it/s]"
     ]
    },
    {
     "name": "stdout",
     "output_type": "stream",
     "text": [
      "MCMC Model Has Finished Running\n",
      "Ended Calculations for SAND: J0333+0014\n"
     ]
    },
    {
     "name": "stderr",
     "output_type": "stream",
     "text": [
      " 24%|██▍       | 6110/25000 [06:11<22:00, 14.31it/s]"
     ]
    },
    {
     "name": "stdout",
     "output_type": "stream",
     "text": [
      "MCMC Model Has Finished Running\n",
      "Ended Calculations for SAND: J0330-2348\n"
     ]
    },
    {
     "name": "stderr",
     "output_type": "stream",
     "text": [
      " 32%|███▏      | 8000/25000 [10:20<21:59, 12.88it/s]]\n",
      " 40%|███▉      | 9953/25000 [10:22<16:08, 15.54it/s]]WARNING:root:Too few points to create valid contours\n",
      " 57%|█████▋    | 14270/25000 [10:23<07:34, 23.61it/s]WARNING:root:Too few points to create valid contours\n",
      " 58%|█████▊    | 14405/25000 [10:28<09:20, 18.91it/s]WARNING:root:Too few points to create valid contours\n",
      " 40%|████      | 10068/25000 [10:29<17:47, 13.98it/s]"
     ]
    },
    {
     "name": "stdout",
     "output_type": "stream",
     "text": [
      "MCMC Model Has Finished Running\n",
      "Ended Calculations for SAND: J0330+3505\n"
     ]
    },
    {
     "name": "stderr",
     "output_type": "stream",
     "text": [
      " 69%|██████▉   | 17300/25000 [15:05<06:42, 19.11it/s]\n",
      " 85%|████████▍ | 21197/25000 [15:27<02:37, 24.15it/s]"
     ]
    },
    {
     "name": "stdout",
     "output_type": "stream",
     "text": [
      "MCMC Model Has Finished Running\n"
     ]
    },
    {
     "name": "stderr",
     "output_type": "stream",
     "text": [
      " 84%|████████▍ | 21092/25000 [15:23<02:41, 24.26it/s]"
     ]
    },
    {
     "name": "stdout",
     "output_type": "stream",
     "text": [
      "Ended Calculations for SAND: J1425+7102\n"
     ]
    },
    {
     "name": "stderr",
     "output_type": "stream",
     "text": [
      "100%|██████████| 25000/25000 [18:14<00:00, 22.84it/s]\n",
      " 67%|██████▋   | 16790/25000 [18:12<08:25, 16.25it/s]WARNING:root:Too few points to create valid contours\n",
      " 67%|██████▋   | 16792/25000 [18:12<08:29, 16.10it/s]WARNING:root:Too few points to create valid contours\n",
      "100%|█████████▉| 24903/25000 [18:13<00:07, 12.75it/s]WARNING:root:Too few points to create valid contours\n",
      "100%|█████████▉| 24906/25000 [18:13<00:06, 14.81it/s]WARNING:root:Too few points to create valid contours\n",
      " 67%|██████▋   | 16796/25000 [18:12<08:33, 15.99it/s]WARNING:root:Too few points to create valid contours\n",
      "100%|█████████▉| 24909/25000 [18:13<00:05, 16.57it/s]WARNING:root:Too few points to create valid contours\n",
      "100%|██████████| 25000/25000 [18:17<00:00, 22.77it/s]\n",
      " 68%|██████▊   | 16893/25000 [18:19<08:11, 16.50it/s]WARNING:root:Too few points to create valid contours\n",
      " 68%|██████▊   | 16897/25000 [18:19<08:20, 16.17it/s]WARNING:root:Too few points to create valid contours\n",
      "WARNING:root:Too few points to create valid contours\n",
      " 68%|██████▊   | 16899/25000 [18:19<08:32, 15.81it/s]WARNING:root:Too few points to create valid contours\n",
      "WARNING:root:Too few points to create valid contours\n",
      "WARNING:root:Too few points to create valid contours\n",
      " 68%|██████▊   | 16995/25000 [18:25<09:40, 13.79it/s]"
     ]
    },
    {
     "name": "stdout",
     "output_type": "stream",
     "text": [
      "MCMC Model Has Finished Running\n",
      "Ended Calculations for SAND: J1158+0435\n"
     ]
    },
    {
     "name": "stderr",
     "output_type": "stream",
     "text": [
      " 68%|██████▊   | 17109/25000 [18:33<09:51, 13.34it/s]"
     ]
    },
    {
     "name": "stdout",
     "output_type": "stream",
     "text": [
      "MCMC Model Has Finished Running\n",
      "Ended Calculations for SAND: J0532+8246\n"
     ]
    },
    {
     "name": "stderr",
     "output_type": "stream",
     "text": [
      " 89%|████████▉ | 22300/25000 [24:20<02:56, 15.27it/s]\n"
     ]
    },
    {
     "name": "stdout",
     "output_type": "stream",
     "text": [
      "MCMC Model Has Finished Running\n",
      "Ended Calculations for SAND: J0559-2903\n",
      "Completed: None\n",
      "Completed: None\n",
      "Completed: None\n",
      "Completed: None\n",
      "Completed: Output/SAND/SAND_J1416+1348B\n",
      "Completed: Output/SAND/SAND_J1425+7102\n",
      "Completed: None\n",
      "Completed: None\n",
      "Completed: None\n",
      "Completed: None\n",
      "Completed: None\n",
      "Completed: None\n",
      "Completed: None\n",
      "Completed: None\n",
      "Completed: None\n",
      "Completed: None\n",
      "Completed: None\n",
      "Completed: None\n",
      "Completed: None\n",
      "Completed: None\n",
      "Completed: None\n",
      "Completed: None\n",
      "Completed: Output/SAND/SAND_J1316+0755\n",
      "Completed: Output/SAND/SAND_J1333+2735\n",
      "Completed: None\n",
      "Completed: None\n",
      "Completed: None\n",
      "Completed: None\n",
      "Completed: None\n",
      "Completed: None\n",
      "Completed: None\n",
      "Completed: None\n",
      "Completed: Output/SAND/SAND_J0306-0330\n",
      "Completed: Output/SAND/SAND_J0330-2348\n",
      "Completed: Output/SAND/SAND_J0330+3505\n",
      "Completed: Output/SAND/SAND_J0333+0014\n",
      "Completed: None\n",
      "Completed: None\n",
      "Completed: None\n",
      "Completed: None\n",
      "Completed: None\n",
      "Completed: None\n",
      "Completed: Output/SAND/SAND_J0532+8246\n",
      "Completed: Output/SAND/SAND_J0559-2903\n",
      "Completed: None\n",
      "Completed: None\n",
      "Completed: None\n",
      "Completed: None\n",
      "Completed: None\n",
      "Completed: None\n",
      "Completed: None\n",
      "Completed: None\n",
      "Completed: Output/SAND/SAND_J1035-0771\n",
      "Completed: Output/SAND/SAND_J1158+0435\n",
      "Completed: None\n",
      "Completed: None\n",
      "Completed: None\n",
      "Completed: None\n",
      "Completed: None\n",
      "Completed: None\n",
      "Completed: None\n",
      "Completed: None\n",
      "Completed: None\n",
      "Completed: None\n",
      "Completed: None\n",
      "Completed: None\n",
      "Completed: None\n",
      "Completed: None\n",
      "Completed: None\n",
      "Completed: None\n",
      "Completed: None\n",
      "Completed: None\n"
     ]
    }
   ],
   "source": [
    "# Model parameters and settings\n",
    "model_directory = '/scratch/hcb98/bones_project/default/SAND'\n",
    "model_parm = ['[M/H]', '[α/M]', 'Teff', 'log(g)']\n",
    "unit = 0.0001\n",
    "walkers = 42\n",
    "max_step = 25000\n",
    "safety_coeff = 50\n",
    "\n",
    "# Global lock for process synchronization\n",
    "lock = None\n",
    "\n",
    "def init_lock(l):\n",
    "    global lock\n",
    "    lock = l\n",
    "\n",
    "# Global lock for process synchronization\n",
    "lock = None\n",
    "\n",
    "def init_lock(l):\n",
    "    global lock\n",
    "    lock = l\n",
    "\n",
    "def process_file(temp_file):\n",
    "    split_file = (temp_file.split('/home/hcb98/BONES/OBSERVED/', 2)[1]).split('.csv', 2)[0]\n",
    "    output_file = f'Output/SAND/SAND_{split_file}'\n",
    "\n",
    "    file_path = Path(f'{output_file}.pdf')\n",
    "\n",
    "    if file_path.exists():\n",
    "        pass\n",
    "    else: \n",
    "        with lock:\n",
    "            print(f'Started Running Calculations for SAND: {split_file}')\n",
    "        mcmcfit(temp_file, output_file, model_directory, model_parm, unit, walkers, max_step, safety_coeff)\n",
    "        \n",
    "        with lock:\n",
    "            print(f'Ended Calculations for SAND: {split_file}')\n",
    "        return output_file\n",
    "\n",
    "if __name__ == \"__main__\":\n",
    "    input_file_list = glob.glob('/home/hcb98/BONES/OBSERVED/*')\n",
    "    lock = multiprocessing.Lock()\n",
    "\n",
    "    chunksize = 1\n",
    "\n",
    "    with multiprocessing.Pool(initializer=init_lock, initargs=(lock,)) as pool:\n",
    "        results = []\n",
    "        for chunk in (pool.imap(process_file, input_file_list, chunksize=chunksize)):\n",
    "            results.append(chunk)\n",
    "\n",
    "    for output_file in results:\n",
    "        print(f'Completed: {output_file}')"
   ]
  },
  {
   "cell_type": "markdown",
   "metadata": {},
   "source": [
    "### END"
   ]
  }
 ],
 "metadata": {
  "kernelspec": {
   "display_name": "Python 3 (ipykernel)",
   "language": "python",
   "name": "python3"
  },
  "language_info": {
   "codemirror_mode": {
    "name": "ipython",
    "version": 3
   },
   "file_extension": ".py",
   "mimetype": "text/x-python",
   "name": "python",
   "nbconvert_exporter": "python",
   "pygments_lexer": "ipython3",
   "version": "3.11.7"
  }
 },
 "nbformat": 4,
 "nbformat_minor": 4
}
