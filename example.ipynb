{
 "cells": [
  {
   "cell_type": "markdown",
   "metadata": {},
   "source": [
    "#### Start"
   ]
  },
  {
   "cell_type": "code",
   "execution_count": 1,
   "metadata": {},
   "outputs": [],
   "source": [
    "# Import castl\n",
    "from castl.mcfit import *\n",
    "from castl.h5grid import *"
   ]
  },
  {
   "cell_type": "code",
   "execution_count": null,
   "metadata": {},
   "outputs": [],
   "source": [
    "# REQUIRED VARIABLES #\n",
    "# ------------------ #\n",
    "output_h5 = 'models/ELFOWL' # Output Name (DO NOT INCLUDE FILE TYPE)\n",
    "model_directory = '/Volumes/HUNTER/BONES/SPECTRA/MODELS/ELFOWL' # Model Directory Path\n",
    "\n",
    "model_parm = ['Teff', 'log(g)', '[M/H]', 'C/O', 'log(Kzz)'] # Model Parameter Names (FOLLOWING THE ORDER OF THE MODEL FILE NAME)\n",
    "\n",
    "wavelength_region = [0.5, 15] # Wavelength Region ([MIN, MAX])\n",
    "# ------------------ #\n",
    "\n",
    "# BUILDS H5 FILE ON MODEL\n",
    "h5grid(model_directory, model_parm, output_h5, wavelength_region)"
   ]
  },
  {
   "cell_type": "code",
   "execution_count": null,
   "metadata": {},
   "outputs": [],
   "source": [
    "# REQUIRED VARIABLES #\n",
    "# ------------------ #\n",
    "input_file = 'EXAMPLE_SPEC.fits' # Input Spectrum Directory\n",
    "output_mcmc = 'output/ELFOWL_test' # Output Name (DO NOT INCLUDE FILE TYPE)\n",
    "\n",
    "# Model Parameter Names (IN ORDER OF H5 FILE)\n",
    "h5_directory = 'models/ELFOWL.h5'\n",
    "model_parm = ['Teff', 'log(g)', '[M/H]', 'log(Kzz)', 'C/O'] # ELF OWL\n",
    "# ------------------ #\n",
    "\n",
    "# OPTIONAL VARIABLES #\n",
    "# ------------------ #\n",
    "walkers = 2*(len(model_parm) + 1) # Number of emcee Walkers (default=15)\n",
    "max_step = 5000 # Number of emcee Max Steps (default=1000)\n",
    "stretch_factor = 5 # The Stretch Number for emcee StretchMove (default=2)\n",
    "monitor = True # To Plot Periodic Step Plots Every 1000 Steps (default=False)\n",
    "unit = 1 # Convert Model Wavelength Unit to Observed Wavelength Unit (default=1)\n",
    "# ------------------ #\n",
    "\n",
    "# RUNS MCMC CALCULATIONS\n",
    "mcmcfit(input_file, output_mcmc, h5_directory, model_parm, unit = unit, stretch_factor = stretch_factor, max_step = max_step, monitor=monitor)"
   ]
  },
  {
   "cell_type": "markdown",
   "metadata": {},
   "source": [
    "#### Finé"
   ]
  }
 ],
 "metadata": {
  "kernelspec": {
   "display_name": "Python 3",
   "language": "python",
   "name": "python3"
  },
  "language_info": {
   "codemirror_mode": {
    "name": "ipython",
    "version": 3
   },
   "file_extension": ".py",
   "mimetype": "text/x-python",
   "name": "python",
   "nbconvert_exporter": "python",
   "pygments_lexer": "ipython3",
   "version": "3.8.8"
  }
 },
 "nbformat": 4,
 "nbformat_minor": 4
}
