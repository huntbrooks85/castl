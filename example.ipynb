{
 "cells": [
  {
   "cell_type": "markdown",
   "metadata": {},
   "source": [
    "#### Start"
   ]
  },
  {
   "cell_type": "code",
   "execution_count": 1,
   "metadata": {},
   "outputs": [],
   "source": [
    "# Import castl\n",
    "from castl.mcfit import *"
   ]
  },
  {
   "cell_type": "code",
   "execution_count": 4,
   "metadata": {},
   "outputs": [],
   "source": [
    "# REQUIRED VARIABLES #\n",
    "# ------------------ #\n",
    "input_file = '/Desktop/spectra/test.csv' # Input Spectrum Directory\n",
    "output_file = 'Output/test' # Output Directory (DO NO INCLUDE FILE TYPE)\n",
    "\n",
    "model_directory = '/Desktop/model/LOWZ' # Model Directory Path\n",
    "model_parm = ['Teff', 'log(g)', '[M/H]', 'C/O', 'log(Kzz)'] # Model Parameter Names (FOLLOWING THE ORDER OF THE MODEL FILE NAME)\n",
    "# ------------------ #\n",
    "\n",
    "# OPTIONAL VARIABLES #\n",
    "# ------------------ #\n",
    "walkers = 15 # Number of emcee Walkers (default=15)\n",
    "max_step = 1000 # Number of emcee Max Steps (default=1000)\n",
    "safety_coeff = 10 # Safety Coefficient for Autocorrelation (default=10)\n",
    "stretch_factor = 2 # The Stretch Number for emcee StretchMove (default=2)\n",
    "monitor = False # To Plot Periodic Step Plots Every 1000 Steps (default=False)\n",
    "\n",
    "unit = 1 # Convert Model Wavelength Unit to Observed Wavelength Unit (default=1)\n",
    "# ------------------ #"
   ]
  },
  {
   "cell_type": "code",
   "execution_count": null,
   "metadata": {},
   "outputs": [],
   "source": [
    "# Run MCMC Calculation\n",
    "mcmcfit(input_file, output_file, model_directory, model_parm)"
   ]
  },
  {
   "cell_type": "markdown",
   "metadata": {},
   "source": [
    "#### Finé"
   ]
  }
 ],
 "metadata": {
  "kernelspec": {
   "display_name": "Python 3",
   "language": "python",
   "name": "python3"
  },
  "language_info": {
   "codemirror_mode": {
    "name": "ipython",
    "version": 3
   },
   "file_extension": ".py",
   "mimetype": "text/x-python",
   "name": "python",
   "nbconvert_exporter": "python",
   "pygments_lexer": "ipython3",
   "version": "3.8.8"
  }
 },
 "nbformat": 4,
 "nbformat_minor": 4
}
