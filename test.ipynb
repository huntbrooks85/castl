{
 "cells": [
  {
   "cell_type": "code",
   "execution_count": null,
   "metadata": {},
   "outputs": [],
   "source": [
    "# Import the castl package\n",
    "from castl.mcfit import *"
   ]
  },
  {
   "cell_type": "code",
   "execution_count": null,
   "metadata": {},
   "outputs": [],
   "source": [
    "# Sets the variables for Input spectrum and output files\n",
    "input_file = 'test.csv'\n",
    "output_file = 'Output/test'"
   ]
  },
  {
   "cell_type": "code",
   "execution_count": null,
   "metadata": {},
   "outputs": [],
   "source": [
    "# Model parameters\n",
    "model_directory = '/scratch/hcb98/bones_project/default/MODELS/LOWZ'\n",
    "model_parm = ['Teff', 'log(g)', 'MH', 'CO', 'log(Kzz)']\n",
    "model_bounds = [(500, 1600), (3.5, 5), (-2.5, 0.5), (0.1, 0.85), (-1, 10)]\n",
    "unit = 1"
   ]
  },
  {
   "cell_type": "code",
   "execution_count": null,
   "metadata": {},
   "outputs": [],
   "source": [
    "# MCMC settings\n",
    "steps = 25000\n",
    "walkers = 40\n",
    "stretch = 2\n",
    "discard = 2500\n",
    "inter_type = 'total'"
   ]
  },
  {
   "cell_type": "code",
   "execution_count": null,
   "metadata": {},
   "outputs": [],
   "source": [
    "# Runs the total MCMC caluclation (may take a few minutes)\n",
    "mcmcfit(input_file, output_file, model_directory, model_parm, model_bounds, inter_type, unit, steps, walkers, stretch, discard)"
   ]
  }
 ],
 "metadata": {
  "kernelspec": {
   "display_name": "Python 3",
   "language": "python",
   "name": "python3"
  },
  "language_info": {
   "codemirror_mode": {
    "name": "ipython",
    "version": 3
   },
   "file_extension": ".py",
   "mimetype": "text/x-python",
   "name": "python",
   "nbconvert_exporter": "python",
   "pygments_lexer": "ipython3",
   "version": "3.8.8"
  },
  "orig_nbformat": 4
 },
 "nbformat": 4,
 "nbformat_minor": 2
}
