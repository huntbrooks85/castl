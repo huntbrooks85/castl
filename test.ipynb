{
 "cells": [
  {
   "cell_type": "markdown",
   "metadata": {},
   "source": [
    "#### START"
   ]
  },
  {
   "cell_type": "code",
   "execution_count": null,
   "metadata": {},
   "outputs": [],
   "source": [
    "from castl.spectra import *\n",
    "from castl.mcmc import * \n",
    "import matplotlib.pyplot as plt"
   ]
  },
  {
   "cell_type": "code",
   "execution_count": null,
   "metadata": {
    "tags": []
   },
   "outputs": [],
   "source": [
    "wave,flux = obspec('/Volumes/HUNTER/BONES/SPECTRA/OBSERVED/GJ576B.csv')"
   ]
  },
  {
   "cell_type": "code",
   "execution_count": null,
   "metadata": {},
   "outputs": [],
   "source": [
    "grid = gridspec('/Volumes/HUNTER/BONES/SPECTRA/MODELS/LOWZ', ['Teff', 'log(g)', 'MH', 'CO', 'log(Kzz)'], wave, 1)"
   ]
  },
  {
   "cell_type": "code",
   "execution_count": null,
   "metadata": {},
   "outputs": [],
   "source": [
    "test_inter = gridinter(grid, 'nearest')"
   ]
  },
  {
   "cell_type": "code",
   "execution_count": null,
   "metadata": {},
   "outputs": [],
   "source": [
    "elf_test = [(275, 2400),  (4, 5.5), (-1, 0.5), (2, 9), (0.5, 2.5)]\n",
    "lowz_test = [(500, 1600),  (3.5, 5), (-2.5, 0.5), (0.1, 0.85), (-1, 10)]\n",
    "sand_test = [(0, 0)]\n",
    "sampler = specmc(15000, 25, test_inter, flux, 1e40, 100, lowz_test)"
   ]
  },
  {
   "cell_type": "code",
   "execution_count": null,
   "metadata": {},
   "outputs": [],
   "source": [
    "best = mcbest(sampler, 1000)"
   ]
  },
  {
   "cell_type": "code",
   "execution_count": null,
   "metadata": {},
   "outputs": [],
   "source": [
    "table =  mctable(sampler, test_inter, 'test', wave, ['Teff', 'log(g)', 'MH', 'CO', 'log(Kzz)'], 4000)"
   ]
  },
  {
   "cell_type": "code",
   "execution_count": null,
   "metadata": {},
   "outputs": [],
   "source": [
    "plot = mcplot(sampler, 'test', 4000, test_inter, wave, flux, ['Teff', 'log(g)', 'MH', 'CO', 'log(Kzz)'])"
   ]
  },
  {
   "cell_type": "markdown",
   "metadata": {},
   "source": [
    "### END"
   ]
  }
 ],
 "metadata": {
  "kernelspec": {
   "display_name": "Python 3",
   "language": "python",
   "name": "python3"
  },
  "language_info": {
   "codemirror_mode": {
    "name": "ipython",
    "version": 3
   },
   "file_extension": ".py",
   "mimetype": "text/x-python",
   "name": "python",
   "nbconvert_exporter": "python",
   "pygments_lexer": "ipython3",
   "version": "3.8.8"
  },
  "orig_nbformat": 4
 },
 "nbformat": 4,
 "nbformat_minor": 2
}
