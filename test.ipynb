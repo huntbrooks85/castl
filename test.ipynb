{
 "cells": [
  {
   "cell_type": "markdown",
   "metadata": {},
   "source": [
    "#### START"
   ]
  },
  {
   "cell_type": "code",
   "execution_count": null,
   "metadata": {},
   "outputs": [],
   "source": [
    "from castl.mcmcfit import *"
   ]
  },
  {
   "cell_type": "code",
   "execution_count": null,
   "metadata": {},
   "outputs": [],
   "source": [
    "input_file = '/Volumes/HUNTER/BONES/SPECTRA/OBSERVED/GJ576B.csv'\n",
    "output_file = 'test'\n",
    "model_directory = '/Volumes/HUNTER/BONES/SPECTRA/MODELS/LOWZ'\n",
    "model_parm = ['T', 'G', 'Z', 'C', 'K']\n",
    "model_bounds = [(500, 1600), (3.5, 5), (-2.5, 0.5), (0.1, 0.85), (-1, 10)]\n",
    "unit = 1\n",
    "steps = 25000\n",
    "walkers = 50\n",
    "stretch = 2\n",
    "discard = 2500\n",
    "\n",
    "mcmcfit(input_file, output_file, model_directory, model_parm, model_bounds, unit, steps, walkers, stretch, discard)"
   ]
  },
  {
   "cell_type": "markdown",
   "metadata": {},
   "source": [
    "### END"
   ]
  }
 ],
 "metadata": {
  "kernelspec": {
   "display_name": "Python 3",
   "language": "python",
   "name": "python3"
  },
  "language_info": {
   "codemirror_mode": {
    "name": "ipython",
    "version": 3
   },
   "file_extension": ".py",
   "mimetype": "text/x-python",
   "name": "python",
   "nbconvert_exporter": "python",
   "pygments_lexer": "ipython3",
   "version": "3.8.8"
  },
  "orig_nbformat": 4
 },
 "nbformat": 4,
 "nbformat_minor": 2
}
